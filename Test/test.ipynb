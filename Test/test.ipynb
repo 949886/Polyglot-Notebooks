{
 "cells": [
  {
   "cell_type": "code",
   "execution_count": 1,
   "metadata": {
    "dotnet_interactive": {
     "language": "csharp"
    },
    "vscode": {
     "languageId": "polyglot-notebook"
    }
   },
   "outputs": [
    {
     "name": "stdout",
     "output_type": "stream",
     "text": [
      "test\r\n"
     ]
    }
   ],
   "source": [
    "Console.WriteLine(\"test\");"
   ]
  },
  {
   "attachments": {},
   "cell_type": "markdown",
   "metadata": {
    "dotnet_interactive": {
     "language": "csharp"
    },
    "polyglot_notebook": {
     "kernelName": "csharp"
    }
   },
   "source": [
    "获取当前文件夹的所有文件"
   ]
  },
  {
   "cell_type": "code",
   "execution_count": null,
   "metadata": {
    "dotnet_interactive": {
     "language": "csharp"
    },
    "vscode": {
     "languageId": "polyglot-notebook"
    }
   },
   "outputs": [],
   "source": [
    "// Create a list of files in the current directory\n",
    "using System.IO;\n",
    "var files = Directory.GetFiles(Directory.GetCurrentDirectory());\n",
    "foreach (var file in files)\n",
    "{\n",
    "    Console.WriteLine(file);\n",
    "}"
   ]
  },
  {
   "cell_type": "markdown",
   "metadata": {
    "dotnet_interactive": {
     "language": "csharp"
    },
    "polyglot_notebook": {
     "kernelName": "csharp"
    }
   },
   "source": []
  },
  {
   "cell_type": "code",
   "execution_count": null,
   "metadata": {
    "dotnet_interactive": {
     "language": "csharp"
    },
    "vscode": {
     "languageId": "polyglot-notebook"
    }
   },
   "outputs": [],
   "source": [
    "// Run a FFMPEG cmd command to accelerate a video by 2x and save it to a new file using GPU acceleration\n",
    "using System.Diagnostics;\n",
    "\n",
    "var ffmpeg = new Process();\n",
    "ffmpeg.StartInfo.FileName = \"ffmpeg.exe\";\n",
    "ffmpeg.StartInfo.Arguments =  \"-i input.mp4 -filter:v \\\"setpts=0.5*PTS\\\" -c:a copy output.mp4\";\n",
    "ffmpeg.StartInfo.UseShellExecute = false;\n",
    "ffmpeg.StartInfo.RedirectStandardOutput = true;\n",
    "ffmpeg.StartInfo.RedirectStandardError = true;\n",
    "ffmpeg.Start();\n",
    "ffmpeg.WaitForExit();\n"
   ]
  },
  {
   "cell_type": "code",
   "execution_count": null,
   "metadata": {
    "dotnet_interactive": {
     "language": "csharp"
    },
    "vscode": {
     "languageId": "polyglot-notebook"
    }
   },
   "outputs": [],
   "source": [
    "//Create a unity menu item to generate a textures\n",
    "using UnityEngine;\n",
    "\n",
    "[MenuItem(\"Assets/Create/Texture\")]\n",
    "static void CreateTexture()\n",
    "{\n",
    "    // Create a texture\n",
    "    Texture2D texture = new Texture2D(2, 2);\n",
    "    texture.SetPixel(0, 0, Color.red);\n",
    "    texture.SetPixel(1, 0, Color.green);\n",
    "    texture.SetPixel(0, 1, Color.blue);\n",
    "    texture.SetPixel(1, 1, Color.white);\n",
    "    texture.Apply();\n",
    "\n",
    "    // Encode texture into PNG\n",
    "    byte[] bytes = texture.EncodeToPNG();\n",
    "    Object.DestroyImmediate(texture);\n",
    "\n",
    "    // For testing purposes, also write to a file in the project folder\n",
    "    File.WriteAllBytes(Application.dataPath + \"/../SavedScreen.png\", bytes);\n",
    "}"
   ]
  }
 ],
 "metadata": {
  "kernelspec": {
   "display_name": ".NET (C#)",
   "language": "C#",
   "name": ".net-csharp"
  },
  "language_info": {
   "name": "C#"
  }
 },
 "nbformat": 4,
 "nbformat_minor": 2
}
